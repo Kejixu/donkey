{
 "cells": [
  {
   "cell_type": "code",
   "execution_count": 22,
   "metadata": {},
   "outputs": [],
   "source": [
    "import os\n",
    "import sagemaker as sage\n",
    "from sagemaker import get_execution_role\n",
    "\n",
    "sagemaker_session = sage.Session()\n",
    "\n",
    "role = get_execution_role()"
   ]
  },
  {
   "cell_type": "code",
   "execution_count": 23,
   "metadata": {},
   "outputs": [
    {
     "name": "stdout",
     "output_type": "stream",
     "text": [
      "arn:aws:iam::271275436050:role/ec2admin\n"
     ]
    }
   ],
   "source": [
    "print(role)"
   ]
  },
  {
   "cell_type": "code",
   "execution_count": 24,
   "metadata": {},
   "outputs": [],
   "source": [
    "role='arn:aws:iam::271275436050:role/service-role/AmazonSageMaker-ExecutionRole-20171206T112881'"
   ]
  },
  {
   "cell_type": "code",
   "execution_count": 2,
   "metadata": {},
   "outputs": [
    {
     "name": "stderr",
     "output_type": "stream",
     "text": [
      "INFO:sagemaker:Created S3 bucket: sagemaker-us-east-1-271275436050\n"
     ]
    },
    {
     "ename": "KeyboardInterrupt",
     "evalue": "",
     "output_type": "error",
     "traceback": [
      "\u001b[0;31m---------------------------------------------------------------------------\u001b[0m",
      "\u001b[0;31mKeyboardInterrupt\u001b[0m                         Traceback (most recent call last)",
      "\u001b[0;32m<ipython-input-2-db54d00bbfca>\u001b[0m in \u001b[0;36m<module>\u001b[0;34m()\u001b[0m\n\u001b[0;32m----> 1\u001b[0;31m \u001b[0minputs\u001b[0m \u001b[0;34m=\u001b[0m \u001b[0msagemaker_session\u001b[0m\u001b[0;34m.\u001b[0m\u001b[0mupload_data\u001b[0m\u001b[0;34m(\u001b[0m\u001b[0mpath\u001b[0m\u001b[0;34m=\u001b[0m\u001b[0;34m'/home/ec2-user/d4/data/robo_data_3'\u001b[0m\u001b[0;34m,\u001b[0m \u001b[0mkey_prefix\u001b[0m\u001b[0;34m=\u001b[0m\u001b[0;34m'data/racecar'\u001b[0m\u001b[0;34m)\u001b[0m\u001b[0;34m\u001b[0m\u001b[0m\n\u001b[0m",
      "\u001b[0;32m/usr/local/lib/python3.4/site-packages/sagemaker/session.py\u001b[0m in \u001b[0;36mupload_data\u001b[0;34m(self, path, bucket, key_prefix)\u001b[0m\n\u001b[1;32m    129\u001b[0m         \u001b[0;32mfor\u001b[0m \u001b[0mlocal_path\u001b[0m\u001b[0;34m,\u001b[0m \u001b[0ms3_key\u001b[0m \u001b[0;32min\u001b[0m \u001b[0mfiles\u001b[0m\u001b[0;34m:\u001b[0m\u001b[0;34m\u001b[0m\u001b[0m\n\u001b[1;32m    130\u001b[0m             \u001b[0;32mwith\u001b[0m \u001b[0mopen\u001b[0m\u001b[0;34m(\u001b[0m\u001b[0mlocal_path\u001b[0m\u001b[0;34m,\u001b[0m \u001b[0;34m'rb'\u001b[0m\u001b[0;34m)\u001b[0m \u001b[0;32mas\u001b[0m \u001b[0mf\u001b[0m\u001b[0;34m:\u001b[0m\u001b[0;34m\u001b[0m\u001b[0m\n\u001b[0;32m--> 131\u001b[0;31m                 \u001b[0ms3\u001b[0m\u001b[0;34m.\u001b[0m\u001b[0mObject\u001b[0m\u001b[0;34m(\u001b[0m\u001b[0mbucket\u001b[0m\u001b[0;34m,\u001b[0m \u001b[0ms3_key\u001b[0m\u001b[0;34m)\u001b[0m\u001b[0;34m.\u001b[0m\u001b[0mput\u001b[0m\u001b[0;34m(\u001b[0m\u001b[0mBody\u001b[0m\u001b[0;34m=\u001b[0m\u001b[0mf\u001b[0m\u001b[0;34m)\u001b[0m\u001b[0;34m\u001b[0m\u001b[0m\n\u001b[0m\u001b[1;32m    132\u001b[0m \u001b[0;34m\u001b[0m\u001b[0m\n\u001b[1;32m    133\u001b[0m         \u001b[0ms3_uri\u001b[0m \u001b[0;34m=\u001b[0m \u001b[0;34m's3://{}/{}'\u001b[0m\u001b[0;34m.\u001b[0m\u001b[0mformat\u001b[0m\u001b[0;34m(\u001b[0m\u001b[0mbucket\u001b[0m\u001b[0;34m,\u001b[0m \u001b[0mkey_prefix\u001b[0m\u001b[0;34m)\u001b[0m\u001b[0;34m\u001b[0m\u001b[0m\n",
      "\u001b[0;32m/usr/local/lib/python3.4/site-packages/boto3/resources/factory.py\u001b[0m in \u001b[0;36mdo_action\u001b[0;34m(self, *args, **kwargs)\u001b[0m\n\u001b[1;32m    518\u001b[0m             \u001b[0;31m# instance via ``self``.\u001b[0m\u001b[0;34m\u001b[0m\u001b[0;34m\u001b[0m\u001b[0m\n\u001b[1;32m    519\u001b[0m             \u001b[0;32mdef\u001b[0m \u001b[0mdo_action\u001b[0m\u001b[0;34m(\u001b[0m\u001b[0mself\u001b[0m\u001b[0;34m,\u001b[0m \u001b[0;34m*\u001b[0m\u001b[0margs\u001b[0m\u001b[0;34m,\u001b[0m \u001b[0;34m**\u001b[0m\u001b[0mkwargs\u001b[0m\u001b[0;34m)\u001b[0m\u001b[0;34m:\u001b[0m\u001b[0;34m\u001b[0m\u001b[0m\n\u001b[0;32m--> 520\u001b[0;31m                 \u001b[0mresponse\u001b[0m \u001b[0;34m=\u001b[0m \u001b[0maction\u001b[0m\u001b[0;34m(\u001b[0m\u001b[0mself\u001b[0m\u001b[0;34m,\u001b[0m \u001b[0;34m*\u001b[0m\u001b[0margs\u001b[0m\u001b[0;34m,\u001b[0m \u001b[0;34m**\u001b[0m\u001b[0mkwargs\u001b[0m\u001b[0;34m)\u001b[0m\u001b[0;34m\u001b[0m\u001b[0m\n\u001b[0m\u001b[1;32m    521\u001b[0m \u001b[0;34m\u001b[0m\u001b[0m\n\u001b[1;32m    522\u001b[0m                 \u001b[0;32mif\u001b[0m \u001b[0mhasattr\u001b[0m\u001b[0;34m(\u001b[0m\u001b[0mself\u001b[0m\u001b[0;34m,\u001b[0m \u001b[0;34m'load'\u001b[0m\u001b[0;34m)\u001b[0m\u001b[0;34m:\u001b[0m\u001b[0;34m\u001b[0m\u001b[0m\n",
      "\u001b[0;32m/usr/local/lib/python3.4/site-packages/boto3/resources/action.py\u001b[0m in \u001b[0;36m__call__\u001b[0;34m(self, parent, *args, **kwargs)\u001b[0m\n\u001b[1;32m     81\u001b[0m                     operation_name, params)\n\u001b[1;32m     82\u001b[0m \u001b[0;34m\u001b[0m\u001b[0m\n\u001b[0;32m---> 83\u001b[0;31m         \u001b[0mresponse\u001b[0m \u001b[0;34m=\u001b[0m \u001b[0mgetattr\u001b[0m\u001b[0;34m(\u001b[0m\u001b[0mparent\u001b[0m\u001b[0;34m.\u001b[0m\u001b[0mmeta\u001b[0m\u001b[0;34m.\u001b[0m\u001b[0mclient\u001b[0m\u001b[0;34m,\u001b[0m \u001b[0moperation_name\u001b[0m\u001b[0;34m)\u001b[0m\u001b[0;34m(\u001b[0m\u001b[0;34m**\u001b[0m\u001b[0mparams\u001b[0m\u001b[0;34m)\u001b[0m\u001b[0;34m\u001b[0m\u001b[0m\n\u001b[0m\u001b[1;32m     84\u001b[0m \u001b[0;34m\u001b[0m\u001b[0m\n\u001b[1;32m     85\u001b[0m         \u001b[0mlogger\u001b[0m\u001b[0;34m.\u001b[0m\u001b[0mdebug\u001b[0m\u001b[0;34m(\u001b[0m\u001b[0;34m'Response: %r'\u001b[0m\u001b[0;34m,\u001b[0m \u001b[0mresponse\u001b[0m\u001b[0;34m)\u001b[0m\u001b[0;34m\u001b[0m\u001b[0m\n",
      "\u001b[0;32m/usr/local/lib/python3.4/site-packages/botocore/client.py\u001b[0m in \u001b[0;36m_api_call\u001b[0;34m(self, *args, **kwargs)\u001b[0m\n\u001b[1;32m    315\u001b[0m                     \"%s() only accepts keyword arguments.\" % py_operation_name)\n\u001b[1;32m    316\u001b[0m             \u001b[0;31m# The \"self\" in this scope is referring to the BaseClient.\u001b[0m\u001b[0;34m\u001b[0m\u001b[0;34m\u001b[0m\u001b[0m\n\u001b[0;32m--> 317\u001b[0;31m             \u001b[0;32mreturn\u001b[0m \u001b[0mself\u001b[0m\u001b[0;34m.\u001b[0m\u001b[0m_make_api_call\u001b[0m\u001b[0;34m(\u001b[0m\u001b[0moperation_name\u001b[0m\u001b[0;34m,\u001b[0m \u001b[0mkwargs\u001b[0m\u001b[0;34m)\u001b[0m\u001b[0;34m\u001b[0m\u001b[0m\n\u001b[0m\u001b[1;32m    318\u001b[0m \u001b[0;34m\u001b[0m\u001b[0m\n\u001b[1;32m    319\u001b[0m         \u001b[0m_api_call\u001b[0m\u001b[0;34m.\u001b[0m\u001b[0m__name__\u001b[0m \u001b[0;34m=\u001b[0m \u001b[0mstr\u001b[0m\u001b[0;34m(\u001b[0m\u001b[0mpy_operation_name\u001b[0m\u001b[0;34m)\u001b[0m\u001b[0;34m\u001b[0m\u001b[0m\n",
      "\u001b[0;32m/usr/local/lib/python3.4/site-packages/botocore/client.py\u001b[0m in \u001b[0;36m_make_api_call\u001b[0;34m(self, operation_name, api_params)\u001b[0m\n\u001b[1;32m    600\u001b[0m         \u001b[0;32melse\u001b[0m\u001b[0;34m:\u001b[0m\u001b[0;34m\u001b[0m\u001b[0m\n\u001b[1;32m    601\u001b[0m             http, parsed_response = self._endpoint.make_request(\n\u001b[0;32m--> 602\u001b[0;31m                 operation_model, request_dict)\n\u001b[0m\u001b[1;32m    603\u001b[0m \u001b[0;34m\u001b[0m\u001b[0m\n\u001b[1;32m    604\u001b[0m         self.meta.events.emit(\n",
      "\u001b[0;32m/usr/local/lib/python3.4/site-packages/botocore/endpoint.py\u001b[0m in \u001b[0;36mmake_request\u001b[0;34m(self, operation_model, request_dict)\u001b[0m\n\u001b[1;32m    141\u001b[0m         logger.debug(\"Making request for %s (verify_ssl=%s) with params: %s\",\n\u001b[1;32m    142\u001b[0m                      operation_model, self.verify, request_dict)\n\u001b[0;32m--> 143\u001b[0;31m         \u001b[0;32mreturn\u001b[0m \u001b[0mself\u001b[0m\u001b[0;34m.\u001b[0m\u001b[0m_send_request\u001b[0m\u001b[0;34m(\u001b[0m\u001b[0mrequest_dict\u001b[0m\u001b[0;34m,\u001b[0m \u001b[0moperation_model\u001b[0m\u001b[0;34m)\u001b[0m\u001b[0;34m\u001b[0m\u001b[0m\n\u001b[0m\u001b[1;32m    144\u001b[0m \u001b[0;34m\u001b[0m\u001b[0m\n\u001b[1;32m    145\u001b[0m     \u001b[0;32mdef\u001b[0m \u001b[0mcreate_request\u001b[0m\u001b[0;34m(\u001b[0m\u001b[0mself\u001b[0m\u001b[0;34m,\u001b[0m \u001b[0mparams\u001b[0m\u001b[0;34m,\u001b[0m \u001b[0moperation_model\u001b[0m\u001b[0;34m=\u001b[0m\u001b[0;32mNone\u001b[0m\u001b[0;34m)\u001b[0m\u001b[0;34m:\u001b[0m\u001b[0;34m\u001b[0m\u001b[0m\n",
      "\u001b[0;32m/usr/local/lib/python3.4/site-packages/botocore/endpoint.py\u001b[0m in \u001b[0;36m_send_request\u001b[0;34m(self, request_dict, operation_model)\u001b[0m\n\u001b[1;32m    168\u001b[0m         \u001b[0mrequest\u001b[0m \u001b[0;34m=\u001b[0m \u001b[0mself\u001b[0m\u001b[0;34m.\u001b[0m\u001b[0mcreate_request\u001b[0m\u001b[0;34m(\u001b[0m\u001b[0mrequest_dict\u001b[0m\u001b[0;34m,\u001b[0m \u001b[0moperation_model\u001b[0m\u001b[0;34m)\u001b[0m\u001b[0;34m\u001b[0m\u001b[0m\n\u001b[1;32m    169\u001b[0m         success_response, exception = self._get_response(\n\u001b[0;32m--> 170\u001b[0;31m             request, operation_model, attempts)\n\u001b[0m\u001b[1;32m    171\u001b[0m         while self._needs_retry(attempts, operation_model, request_dict,\n\u001b[1;32m    172\u001b[0m                                 success_response, exception):\n",
      "\u001b[0;32m/usr/local/lib/python3.4/site-packages/botocore/endpoint.py\u001b[0m in \u001b[0;36m_get_response\u001b[0;34m(self, request, operation_model, attempts)\u001b[0m\n\u001b[1;32m    211\u001b[0m                 \u001b[0mrequest\u001b[0m\u001b[0;34m,\u001b[0m \u001b[0mverify\u001b[0m\u001b[0;34m=\u001b[0m\u001b[0mself\u001b[0m\u001b[0;34m.\u001b[0m\u001b[0mverify\u001b[0m\u001b[0;34m,\u001b[0m\u001b[0;34m\u001b[0m\u001b[0m\n\u001b[1;32m    212\u001b[0m                 \u001b[0mstream\u001b[0m\u001b[0;34m=\u001b[0m\u001b[0moperation_model\u001b[0m\u001b[0;34m.\u001b[0m\u001b[0mhas_streaming_output\u001b[0m\u001b[0;34m,\u001b[0m\u001b[0;34m\u001b[0m\u001b[0m\n\u001b[0;32m--> 213\u001b[0;31m                 proxies=self.proxies, timeout=self.timeout)\n\u001b[0m\u001b[1;32m    214\u001b[0m         \u001b[0;32mexcept\u001b[0m \u001b[0mConnectionError\u001b[0m \u001b[0;32mas\u001b[0m \u001b[0me\u001b[0m\u001b[0;34m:\u001b[0m\u001b[0;34m\u001b[0m\u001b[0m\n\u001b[1;32m    215\u001b[0m             \u001b[0;31m# For a connection error, if it looks like it's a DNS\u001b[0m\u001b[0;34m\u001b[0m\u001b[0;34m\u001b[0m\u001b[0m\n",
      "\u001b[0;32m/usr/local/lib/python3.4/site-packages/botocore/vendored/requests/sessions.py\u001b[0m in \u001b[0;36msend\u001b[0;34m(self, request, **kwargs)\u001b[0m\n\u001b[1;32m    571\u001b[0m \u001b[0;34m\u001b[0m\u001b[0m\n\u001b[1;32m    572\u001b[0m         \u001b[0;31m# Send the request\u001b[0m\u001b[0;34m\u001b[0m\u001b[0;34m\u001b[0m\u001b[0m\n\u001b[0;32m--> 573\u001b[0;31m         \u001b[0mr\u001b[0m \u001b[0;34m=\u001b[0m \u001b[0madapter\u001b[0m\u001b[0;34m.\u001b[0m\u001b[0msend\u001b[0m\u001b[0;34m(\u001b[0m\u001b[0mrequest\u001b[0m\u001b[0;34m,\u001b[0m \u001b[0;34m**\u001b[0m\u001b[0mkwargs\u001b[0m\u001b[0;34m)\u001b[0m\u001b[0;34m\u001b[0m\u001b[0m\n\u001b[0m\u001b[1;32m    574\u001b[0m \u001b[0;34m\u001b[0m\u001b[0m\n\u001b[1;32m    575\u001b[0m         \u001b[0;31m# Total elapsed time of the request (approximately)\u001b[0m\u001b[0;34m\u001b[0m\u001b[0;34m\u001b[0m\u001b[0m\n",
      "\u001b[0;32m/usr/local/lib/python3.4/site-packages/botocore/vendored/requests/adapters.py\u001b[0m in \u001b[0;36msend\u001b[0;34m(self, request, stream, timeout, verify, cert, proxies)\u001b[0m\n\u001b[1;32m    368\u001b[0m                     \u001b[0mdecode_content\u001b[0m\u001b[0;34m=\u001b[0m\u001b[0;32mFalse\u001b[0m\u001b[0;34m,\u001b[0m\u001b[0;34m\u001b[0m\u001b[0m\n\u001b[1;32m    369\u001b[0m                     \u001b[0mretries\u001b[0m\u001b[0;34m=\u001b[0m\u001b[0mself\u001b[0m\u001b[0;34m.\u001b[0m\u001b[0mmax_retries\u001b[0m\u001b[0;34m,\u001b[0m\u001b[0;34m\u001b[0m\u001b[0m\n\u001b[0;32m--> 370\u001b[0;31m                     \u001b[0mtimeout\u001b[0m\u001b[0;34m=\u001b[0m\u001b[0mtimeout\u001b[0m\u001b[0;34m\u001b[0m\u001b[0m\n\u001b[0m\u001b[1;32m    371\u001b[0m                 )\n\u001b[1;32m    372\u001b[0m \u001b[0;34m\u001b[0m\u001b[0m\n",
      "\u001b[0;32m/usr/local/lib/python3.4/site-packages/botocore/vendored/requests/packages/urllib3/connectionpool.py\u001b[0m in \u001b[0;36murlopen\u001b[0;34m(self, method, url, body, headers, retries, redirect, assert_same_host, timeout, pool_timeout, release_conn, **response_kw)\u001b[0m\n\u001b[1;32m    542\u001b[0m             httplib_response = self._make_request(conn, method, url,\n\u001b[1;32m    543\u001b[0m                                                   \u001b[0mtimeout\u001b[0m\u001b[0;34m=\u001b[0m\u001b[0mtimeout_obj\u001b[0m\u001b[0;34m,\u001b[0m\u001b[0;34m\u001b[0m\u001b[0m\n\u001b[0;32m--> 544\u001b[0;31m                                                   body=body, headers=headers)\n\u001b[0m\u001b[1;32m    545\u001b[0m \u001b[0;34m\u001b[0m\u001b[0m\n\u001b[1;32m    546\u001b[0m             \u001b[0;31m# If we're going to release the connection in ``finally:``, then\u001b[0m\u001b[0;34m\u001b[0m\u001b[0;34m\u001b[0m\u001b[0m\n",
      "\u001b[0;32m/usr/local/lib/python3.4/site-packages/botocore/vendored/requests/packages/urllib3/connectionpool.py\u001b[0m in \u001b[0;36m_make_request\u001b[0;34m(self, conn, method, url, timeout, **httplib_request_kw)\u001b[0m\n\u001b[1;32m    347\u001b[0m         \u001b[0;31m# conn.request() calls httplib.*.request, not the method in\u001b[0m\u001b[0;34m\u001b[0m\u001b[0;34m\u001b[0m\u001b[0m\n\u001b[1;32m    348\u001b[0m         \u001b[0;31m# urllib3.request. It also calls makefile (recv) on the socket.\u001b[0m\u001b[0;34m\u001b[0m\u001b[0;34m\u001b[0m\u001b[0m\n\u001b[0;32m--> 349\u001b[0;31m         \u001b[0mconn\u001b[0m\u001b[0;34m.\u001b[0m\u001b[0mrequest\u001b[0m\u001b[0;34m(\u001b[0m\u001b[0mmethod\u001b[0m\u001b[0;34m,\u001b[0m \u001b[0murl\u001b[0m\u001b[0;34m,\u001b[0m \u001b[0;34m**\u001b[0m\u001b[0mhttplib_request_kw\u001b[0m\u001b[0;34m)\u001b[0m\u001b[0;34m\u001b[0m\u001b[0m\n\u001b[0m\u001b[1;32m    350\u001b[0m \u001b[0;34m\u001b[0m\u001b[0m\n\u001b[1;32m    351\u001b[0m         \u001b[0;31m# Reset the timeout for the recv() on the socket\u001b[0m\u001b[0;34m\u001b[0m\u001b[0;34m\u001b[0m\u001b[0m\n",
      "\u001b[0;32m/usr/lib64/python3.4/http/client.py\u001b[0m in \u001b[0;36mrequest\u001b[0;34m(self, method, url, body, headers)\u001b[0m\n\u001b[1;32m   1123\u001b[0m     \u001b[0;32mdef\u001b[0m \u001b[0mrequest\u001b[0m\u001b[0;34m(\u001b[0m\u001b[0mself\u001b[0m\u001b[0;34m,\u001b[0m \u001b[0mmethod\u001b[0m\u001b[0;34m,\u001b[0m \u001b[0murl\u001b[0m\u001b[0;34m,\u001b[0m \u001b[0mbody\u001b[0m\u001b[0;34m=\u001b[0m\u001b[0;32mNone\u001b[0m\u001b[0;34m,\u001b[0m \u001b[0mheaders\u001b[0m\u001b[0;34m=\u001b[0m\u001b[0;34m{\u001b[0m\u001b[0;34m}\u001b[0m\u001b[0;34m)\u001b[0m\u001b[0;34m:\u001b[0m\u001b[0;34m\u001b[0m\u001b[0m\n\u001b[1;32m   1124\u001b[0m         \u001b[0;34m\"\"\"Send a complete request to the server.\"\"\"\u001b[0m\u001b[0;34m\u001b[0m\u001b[0m\n\u001b[0;32m-> 1125\u001b[0;31m         \u001b[0mself\u001b[0m\u001b[0;34m.\u001b[0m\u001b[0m_send_request\u001b[0m\u001b[0;34m(\u001b[0m\u001b[0mmethod\u001b[0m\u001b[0;34m,\u001b[0m \u001b[0murl\u001b[0m\u001b[0;34m,\u001b[0m \u001b[0mbody\u001b[0m\u001b[0;34m,\u001b[0m \u001b[0mheaders\u001b[0m\u001b[0;34m)\u001b[0m\u001b[0;34m\u001b[0m\u001b[0m\n\u001b[0m\u001b[1;32m   1126\u001b[0m \u001b[0;34m\u001b[0m\u001b[0m\n\u001b[1;32m   1127\u001b[0m     \u001b[0;32mdef\u001b[0m \u001b[0m_set_content_length\u001b[0m\u001b[0;34m(\u001b[0m\u001b[0mself\u001b[0m\u001b[0;34m,\u001b[0m \u001b[0mbody\u001b[0m\u001b[0;34m)\u001b[0m\u001b[0;34m:\u001b[0m\u001b[0;34m\u001b[0m\u001b[0m\n",
      "\u001b[0;32m/usr/local/lib/python3.4/site-packages/botocore/awsrequest.py\u001b[0m in \u001b[0;36m_send_request\u001b[0;34m(self, method, url, body, headers, *args, **kwargs)\u001b[0m\n\u001b[1;32m    128\u001b[0m             \u001b[0mself\u001b[0m\u001b[0;34m.\u001b[0m\u001b[0mresponse_class\u001b[0m \u001b[0;34m=\u001b[0m \u001b[0mself\u001b[0m\u001b[0;34m.\u001b[0m\u001b[0m_original_response_cls\u001b[0m\u001b[0;34m\u001b[0m\u001b[0m\n\u001b[1;32m    129\u001b[0m         rval = HTTPConnection._send_request(\n\u001b[0;32m--> 130\u001b[0;31m             self, method, url, body, headers, *args, **kwargs)\n\u001b[0m\u001b[1;32m    131\u001b[0m         \u001b[0mself\u001b[0m\u001b[0;34m.\u001b[0m\u001b[0m_expect_header_set\u001b[0m \u001b[0;34m=\u001b[0m \u001b[0;32mFalse\u001b[0m\u001b[0;34m\u001b[0m\u001b[0m\n\u001b[1;32m    132\u001b[0m         \u001b[0;32mreturn\u001b[0m \u001b[0mrval\u001b[0m\u001b[0;34m\u001b[0m\u001b[0m\n",
      "\u001b[0;32m/usr/lib64/python3.4/http/client.py\u001b[0m in \u001b[0;36m_send_request\u001b[0;34m(self, method, url, body, headers)\u001b[0m\n\u001b[1;32m   1161\u001b[0m             \u001b[0;31m# default charset of iso-8859-1.\u001b[0m\u001b[0;34m\u001b[0m\u001b[0;34m\u001b[0m\u001b[0m\n\u001b[1;32m   1162\u001b[0m             \u001b[0mbody\u001b[0m \u001b[0;34m=\u001b[0m \u001b[0mbody\u001b[0m\u001b[0;34m.\u001b[0m\u001b[0mencode\u001b[0m\u001b[0;34m(\u001b[0m\u001b[0;34m'iso-8859-1'\u001b[0m\u001b[0;34m)\u001b[0m\u001b[0;34m\u001b[0m\u001b[0m\n\u001b[0;32m-> 1163\u001b[0;31m         \u001b[0mself\u001b[0m\u001b[0;34m.\u001b[0m\u001b[0mendheaders\u001b[0m\u001b[0;34m(\u001b[0m\u001b[0mbody\u001b[0m\u001b[0;34m)\u001b[0m\u001b[0;34m\u001b[0m\u001b[0m\n\u001b[0m\u001b[1;32m   1164\u001b[0m \u001b[0;34m\u001b[0m\u001b[0m\n\u001b[1;32m   1165\u001b[0m     \u001b[0;32mdef\u001b[0m \u001b[0mgetresponse\u001b[0m\u001b[0;34m(\u001b[0m\u001b[0mself\u001b[0m\u001b[0;34m)\u001b[0m\u001b[0;34m:\u001b[0m\u001b[0;34m\u001b[0m\u001b[0m\n",
      "\u001b[0;32m/usr/lib64/python3.4/http/client.py\u001b[0m in \u001b[0;36mendheaders\u001b[0;34m(self, message_body)\u001b[0m\n\u001b[1;32m   1119\u001b[0m         \u001b[0;32melse\u001b[0m\u001b[0;34m:\u001b[0m\u001b[0;34m\u001b[0m\u001b[0m\n\u001b[1;32m   1120\u001b[0m             \u001b[0;32mraise\u001b[0m \u001b[0mCannotSendHeader\u001b[0m\u001b[0;34m(\u001b[0m\u001b[0;34m)\u001b[0m\u001b[0;34m\u001b[0m\u001b[0m\n\u001b[0;32m-> 1121\u001b[0;31m         \u001b[0mself\u001b[0m\u001b[0;34m.\u001b[0m\u001b[0m_send_output\u001b[0m\u001b[0;34m(\u001b[0m\u001b[0mmessage_body\u001b[0m\u001b[0;34m)\u001b[0m\u001b[0;34m\u001b[0m\u001b[0m\n\u001b[0m\u001b[1;32m   1122\u001b[0m \u001b[0;34m\u001b[0m\u001b[0m\n\u001b[1;32m   1123\u001b[0m     \u001b[0;32mdef\u001b[0m \u001b[0mrequest\u001b[0m\u001b[0;34m(\u001b[0m\u001b[0mself\u001b[0m\u001b[0;34m,\u001b[0m \u001b[0mmethod\u001b[0m\u001b[0;34m,\u001b[0m \u001b[0murl\u001b[0m\u001b[0;34m,\u001b[0m \u001b[0mbody\u001b[0m\u001b[0;34m=\u001b[0m\u001b[0;32mNone\u001b[0m\u001b[0;34m,\u001b[0m \u001b[0mheaders\u001b[0m\u001b[0;34m=\u001b[0m\u001b[0;34m{\u001b[0m\u001b[0;34m}\u001b[0m\u001b[0;34m)\u001b[0m\u001b[0;34m:\u001b[0m\u001b[0;34m\u001b[0m\u001b[0m\n",
      "\u001b[0;32m/usr/local/lib/python3.4/site-packages/botocore/awsrequest.py\u001b[0m in \u001b[0;36m_send_output\u001b[0;34m(self, message_body, *args, **kwargs)\u001b[0m\n\u001b[1;32m    161\u001b[0m             \u001b[0mlogger\u001b[0m\u001b[0;34m.\u001b[0m\u001b[0mdebug\u001b[0m\u001b[0;34m(\u001b[0m\u001b[0;34m\"Waiting for 100 Continue response.\"\u001b[0m\u001b[0;34m)\u001b[0m\u001b[0;34m\u001b[0m\u001b[0m\n\u001b[1;32m    162\u001b[0m             \u001b[0;31m# Wait for 1 second for the server to send a response.\u001b[0m\u001b[0;34m\u001b[0m\u001b[0;34m\u001b[0m\u001b[0m\n\u001b[0;32m--> 163\u001b[0;31m             \u001b[0mread\u001b[0m\u001b[0;34m,\u001b[0m \u001b[0mwrite\u001b[0m\u001b[0;34m,\u001b[0m \u001b[0mexc\u001b[0m \u001b[0;34m=\u001b[0m \u001b[0mselect\u001b[0m\u001b[0;34m.\u001b[0m\u001b[0mselect\u001b[0m\u001b[0;34m(\u001b[0m\u001b[0;34m[\u001b[0m\u001b[0mself\u001b[0m\u001b[0;34m.\u001b[0m\u001b[0msock\u001b[0m\u001b[0;34m]\u001b[0m\u001b[0;34m,\u001b[0m \u001b[0;34m[\u001b[0m\u001b[0;34m]\u001b[0m\u001b[0;34m,\u001b[0m \u001b[0;34m[\u001b[0m\u001b[0mself\u001b[0m\u001b[0;34m.\u001b[0m\u001b[0msock\u001b[0m\u001b[0;34m]\u001b[0m\u001b[0;34m,\u001b[0m \u001b[0;36m1\u001b[0m\u001b[0;34m)\u001b[0m\u001b[0;34m\u001b[0m\u001b[0m\n\u001b[0m\u001b[1;32m    164\u001b[0m             \u001b[0;32mif\u001b[0m \u001b[0mread\u001b[0m\u001b[0;34m:\u001b[0m\u001b[0;34m\u001b[0m\u001b[0m\n\u001b[1;32m    165\u001b[0m                 \u001b[0mself\u001b[0m\u001b[0;34m.\u001b[0m\u001b[0m_handle_expect_response\u001b[0m\u001b[0;34m(\u001b[0m\u001b[0mmessage_body\u001b[0m\u001b[0;34m)\u001b[0m\u001b[0;34m\u001b[0m\u001b[0m\n",
      "\u001b[0;31mKeyboardInterrupt\u001b[0m: "
     ]
    }
   ],
   "source": [
    "inputs = sagemaker_session.upload_data(path='/home/ec2-user/d4/data/robo_data_3', key_prefix='data/racecar')"
   ]
  },
  {
   "cell_type": "code",
   "execution_count": 25,
   "metadata": {},
   "outputs": [],
   "source": [
    "inputs = \"s3://sagemaker-us-east-1-271275436050/data/racecar/\""
   ]
  },
  {
   "cell_type": "code",
   "execution_count": 26,
   "metadata": {},
   "outputs": [],
   "source": [
    "from time import gmtime, strftime\n"
   ]
  },
  {
   "cell_type": "code",
   "execution_count": 27,
   "metadata": {},
   "outputs": [],
   "source": [
    "image=\"271275436050.dkr.ecr.us-east-1.amazonaws.com/deepimage\""
   ]
  },
  {
   "cell_type": "code",
   "execution_count": 28,
   "metadata": {},
   "outputs": [
    {
     "name": "stderr",
     "output_type": "stream",
     "text": [
      "INFO:sagemaker:Created S3 bucket: sagemaker-us-east-1-271275436050\n"
     ]
    },
    {
     "data": {
      "text/plain": [
       "'sagemaker-us-east-1-271275436050'"
      ]
     },
     "execution_count": 28,
     "metadata": {},
     "output_type": "execute_result"
    }
   ],
   "source": [
    "sagemaker_session.default_bucket()"
   ]
  },
  {
   "cell_type": "code",
   "execution_count": 29,
   "metadata": {},
   "outputs": [],
   "source": [
    "algo = sage.estimator.Estimator(image,\n",
    "                       role, 1, 'ml.p2.xlarge',\n",
    "                       output_path=\"s3://{}/output\".format(\"sagemaker-keji\"),\n",
    "                       sagemaker_session=sagemaker_session)"
   ]
  },
  {
   "cell_type": "code",
   "execution_count": null,
   "metadata": {},
   "outputs": [
    {
     "name": "stderr",
     "output_type": "stream",
     "text": [
      "INFO:sagemaker:Creating training-job with name: deepimage-2018-01-04-22-57-06-422\n"
     ]
    },
    {
     "name": "stdout",
     "output_type": "stream",
     "text": [
      ".................................................................................\n",
      "\u001b[31mUsing TensorFlow backend.\u001b[0m\n",
      "\u001b[31mStarting the training.\u001b[0m\n",
      "\u001b[31mTubGroup:tubpaths: ['/opt/ml/input/data/training']\u001b[0m\n",
      "\u001b[31mpath_in_tub: /opt/ml/input/data/training\u001b[0m\n",
      "\u001b[31mTub exists: /opt/ml/input/data/training\u001b[0m\n",
      "\u001b[31mjoining the tubs 3152 records together. This could take 0 minutes.\u001b[0m\n",
      "\u001b[31mEpoch 1/20\u001b[0m\n",
      "\u001b[31m2018-01-04 23:03:49.384964: I tensorflow/core/platform/cpu_feature_guard.cc:137] Your CPU supports instructions that this TensorFlow binary was not compiled to use: SSE4.1 SSE4.2 AVX AVX2 FMA\u001b[0m\n",
      "\u001b[31m2018-01-04 23:03:49.449370: E tensorflow/stream_executor/cuda/cuda_driver.cc:406] failed call to cuInit: CUDA_ERROR_NO_DEVICE\u001b[0m\n",
      "\u001b[31m2018-01-04 23:03:49.449483: I tensorflow/stream_executor/cuda/cuda_diagnostics.cc:158] retrieving CUDA diagnostic information for host: aws\u001b[0m\n",
      "\u001b[31m2018-01-04 23:03:49.449522: I tensorflow/stream_executor/cuda/cuda_diagnostics.cc:165] hostname: aws\u001b[0m\n",
      "\u001b[31m2018-01-04 23:03:49.449745: I tensorflow/stream_executor/cuda/cuda_diagnostics.cc:189] libcuda reported version is: 375.82.0\u001b[0m\n",
      "\u001b[31m2018-01-04 23:03:49.449793: I tensorflow/stream_executor/cuda/cuda_diagnostics.cc:369] driver version file contents: \"\"\"NVRM version: NVIDIA UNIX x86_64 Kernel Module  384.81  Sat Sep  2 02:43:11 PDT 2017\u001b[0m\n",
      "\u001b[31mGCC version:  gcc version 4.8.5 20150623 (Red Hat 4.8.5-11) (GCC) \u001b[0m\n",
      "\u001b[31m\"\"\"\u001b[0m\n",
      "\u001b[31m2018-01-04 23:03:49.449828: I tensorflow/stream_executor/cuda/cuda_diagnostics.cc:193] kernel reported version is: 384.81.0\u001b[0m\n",
      "\u001b[31m2018-01-04 23:03:49.449864: E tensorflow/stream_executor/cuda/cuda_diagnostics.cc:303] kernel version 384.81.0 does not match DSO version 375.82.0 -- cannot find working devices in this configuration\u001b[0m\n",
      "\u001b[31m 1/11 [=>............................] - ETA: 27s - loss: 6.2233 - angle_out_loss: 6.9138 - throttle_out_loss: 0.9288\u001b[0m\n",
      "\u001b[31m 2/11 [====>.........................] - ETA: 20s - loss: 4.6445 - angle_out_loss: 5.1596 - throttle_out_loss: 0.8747\u001b[0m\n",
      "\u001b[31m 3/11 [=======>......................] - ETA: 16s - loss: 3.9315 - angle_out_loss: 4.3674 - throttle_out_loss: 0.8549\u001b[0m\n",
      "\u001b[31m 4/11 [=========>....................] - ETA: 13s - loss: 3.5568 - angle_out_loss: 3.9510 - throttle_out_loss: 0.8387\u001b[0m\n",
      "\u001b[31m 5/11 [============>.................] - ETA: 11s - loss: 3.2933 - angle_out_loss: 3.6583 - throttle_out_loss: 0.8080\u001b[0m\n",
      "\u001b[31m 6/11 [===============>..............] - ETA: 9s - loss: 3.1262 - angle_out_loss: 3.4727 - throttle_out_loss: 0.7600 \u001b[0m\n",
      "\u001b[31m 7/11 [==================>...........] - ETA: 7s - loss: 2.9995 - angle_out_loss: 3.3320 - throttle_out_loss: 0.7074\u001b[0m\n",
      "\u001b[31m 8/11 [====================>.........] - ETA: 5s - loss: 2.9116 - angle_out_loss: 3.2343 - throttle_out_loss: 0.6772\u001b[0m\n",
      "\u001b[31m 9/11 [=======================>......] - ETA: 3s - loss: 2.8431 - angle_out_loss: 3.1583 - throttle_out_loss: 0.6584\u001b[0m\n",
      "\u001b[31m10/11 [==========================>...] - ETA: 1s - loss: 2.7861 - angle_out_loss: 3.0949 - throttle_out_loss: 0.6572Epoch 00001: val_loss improved from inf to 2.16836, saving model to /opt/ml/model/car-model.pkl\n",
      "\u001b[0m\n",
      "\u001b[31m11/11 [==============================] - 22s 2s/step - loss: 2.7477 - angle_out_loss: 3.0523 - throttle_out_loss: 0.6588 - val_loss: 2.1684 - val_angle_out_loss: 2.4085 - val_throttle_out_loss: 0.7321\u001b[0m\n",
      "\u001b[31mEpoch 2/20\u001b[0m\n",
      "\u001b[31m 1/11 [=>............................] - ETA: 17s - loss: 2.1845 - angle_out_loss: 2.4264 - throttle_out_loss: 0.6819\u001b[0m\n",
      "\u001b[31m 2/11 [====>.........................] - ETA: 15s - loss: 2.2492 - angle_out_loss: 2.4984 - throttle_out_loss: 0.6757\u001b[0m\n",
      "\u001b[31m 3/11 [=======>......................] - ETA: 13s - loss: 2.2444 - angle_out_loss: 2.4930 - throttle_out_loss: 0.6627\u001b[0m\n",
      "\u001b[31m 4/11 [=========>....................] - ETA: 11s - loss: 2.2336 - angle_out_loss: 2.4810 - throttle_out_loss: 0.6350\u001b[0m\n",
      "\u001b[31m 5/11 [============>.................] - ETA: 10s - loss: 2.2401 - angle_out_loss: 2.4883 - throttle_out_loss: 0.6252\u001b[0m\n",
      "\u001b[31m 6/11 [===============>..............] - ETA: 8s - loss: 2.2414 - angle_out_loss: 2.4898 - throttle_out_loss: 0.6128 \u001b[0m\n",
      "\u001b[31m 7/11 [==================>...........] - ETA: 6s - loss: 2.2219 - angle_out_loss: 2.4681 - throttle_out_loss: 0.6007\u001b[0m\n",
      "\u001b[31m 8/11 [====================>.........] - ETA: 5s - loss: 2.2195 - angle_out_loss: 2.4654 - throttle_out_loss: 0.5836\u001b[0m\n",
      "\u001b[31m 9/11 [=======================>......] - ETA: 3s - loss: 2.2212 - angle_out_loss: 2.4674 - throttle_out_loss: 0.5637\u001b[0m\n",
      "\u001b[31m10/11 [==========================>...] - ETA: 1s - loss: 2.2154 - angle_out_loss: 2.4609 - throttle_out_loss: 0.5471Epoch 00002: val_loss improved from 2.16836 to 2.14211, saving model to /opt/ml/model/car-model.pkl\n",
      "\u001b[0m\n",
      "\u001b[31m11/11 [==============================] - 21s 2s/step - loss: 2.2136 - angle_out_loss: 2.4590 - throttle_out_loss: 0.5318 - val_loss: 2.1421 - val_angle_out_loss: 2.3798 - val_throttle_out_loss: 0.2767\u001b[0m\n",
      "\u001b[31mEpoch 3/20\u001b[0m\n",
      "\u001b[31m 1/11 [=>............................] - ETA: 16s - loss: 2.2288 - angle_out_loss: 2.4760 - throttle_out_loss: 0.3726\u001b[0m\n",
      "\u001b[31m 2/11 [====>.........................] - ETA: 15s - loss: 2.1486 - angle_out_loss: 2.3869 - throttle_out_loss: 0.3517\u001b[0m\n",
      "\u001b[31m 3/11 [=======>......................] - ETA: 13s - loss: 2.1433 - angle_out_loss: 2.3810 - throttle_out_loss: 0.3556\u001b[0m\n",
      "\u001b[31m 4/11 [=========>....................] - ETA: 11s - loss: 2.1320 - angle_out_loss: 2.3684 - throttle_out_loss: 0.3509\u001b[0m\n",
      "\u001b[31m 5/11 [============>.................] - ETA: 10s - loss: 2.1436 - angle_out_loss: 2.3814 - throttle_out_loss: 0.3492\u001b[0m\n",
      "\u001b[31m 6/11 [===============>..............] - ETA: 8s - loss: 2.1401 - angle_out_loss: 2.3774 - throttle_out_loss: 0.3545 \u001b[0m\n",
      "\u001b[31m 7/11 [==================>...........] - ETA: 6s - loss: 2.1473 - angle_out_loss: 2.3855 - throttle_out_loss: 0.3581\u001b[0m\n",
      "\u001b[31m 8/11 [====================>.........] - ETA: 5s - loss: 2.1432 - angle_out_loss: 2.3810 - throttle_out_loss: 0.3585\u001b[0m\n",
      "\u001b[31m 9/11 [=======================>......] - ETA: 3s - loss: 2.1239 - angle_out_loss: 2.3595 - throttle_out_loss: 0.3571\u001b[0m\n",
      "\u001b[31m10/11 [==========================>...] - ETA: 1s - loss: 2.1279 - angle_out_loss: 2.3639 - throttle_out_loss: 0.3573Epoch 00003: val_loss improved from 2.14211 to 2.01216, saving model to /opt/ml/model/car-model.pkl\n",
      "\u001b[0m\n",
      "\u001b[31m11/11 [==============================] - 21s 2s/step - loss: 2.1256 - angle_out_loss: 2.3614 - throttle_out_loss: 0.3573 - val_loss: 2.0122 - val_angle_out_loss: 2.2354 - val_throttle_out_loss: 0.2718\u001b[0m\n",
      "\u001b[31mEpoch 4/20\u001b[0m\n",
      "\u001b[31m 1/11 [=>............................] - ETA: 16s - loss: 2.1934 - angle_out_loss: 2.4367 - throttle_out_loss: 0.3760\u001b[0m\n",
      "\u001b[31m 2/11 [====>.........................] - ETA: 15s - loss: 2.1417 - angle_out_loss: 2.3793 - throttle_out_loss: 0.3656\u001b[0m\n",
      "\u001b[31m 3/11 [=======>......................] - ETA: 13s - loss: 2.1415 - angle_out_loss: 2.3790 - throttle_out_loss: 0.3804\u001b[0m\n",
      "\u001b[31m 4/11 [=========>....................] - ETA: 11s - loss: 2.0968 - angle_out_loss: 2.3294 - throttle_out_loss: 0.3741\u001b[0m\n",
      "\u001b[31m 5/11 [============>.................] - ETA: 10s - loss: 2.0900 - angle_out_loss: 2.3218 - throttle_out_loss: 0.3783\u001b[0m\n",
      "\u001b[31m 6/11 [===============>..............] - ETA: 8s - loss: 2.0762 - angle_out_loss: 2.3064 - throttle_out_loss: 0.3843 \u001b[0m\n",
      "\u001b[31m 7/11 [==================>...........] - ETA: 6s - loss: 2.0463 - angle_out_loss: 2.2733 - throttle_out_loss: 0.3956\u001b[0m\n",
      "\u001b[31m 8/11 [====================>.........] - ETA: 5s - loss: 2.0435 - angle_out_loss: 2.2701 - throttle_out_loss: 0.4050\u001b[0m\n",
      "\u001b[31m 9/11 [=======================>......] - ETA: 3s - loss: 2.0280 - angle_out_loss: 2.2529 - throttle_out_loss: 0.4149\u001b[0m\n",
      "\u001b[31m10/11 [==========================>...] - ETA: 1s - loss: 2.0223 - angle_out_loss: 2.2465 - throttle_out_loss: 0.4275Epoch 00004: val_loss improved from 2.01216 to 1.88753, saving model to /opt/ml/model/car-model.pkl\n",
      "\u001b[0m\n",
      "\u001b[31m11/11 [==============================] - 21s 2s/step - loss: 2.0132 - angle_out_loss: 2.2365 - throttle_out_loss: 0.4332 - val_loss: 1.8875 - val_angle_out_loss: 2.0969 - val_throttle_out_loss: 0.3452\u001b[0m\n",
      "\u001b[31mEpoch 5/20\u001b[0m\n",
      "\u001b[31m 1/11 [=>............................] - ETA: 16s - loss: 1.9923 - angle_out_loss: 2.2131 - throttle_out_loss: 0.5375\u001b[0m\n"
     ]
    },
    {
     "name": "stdout",
     "output_type": "stream",
     "text": [
      "\u001b[31m 2/11 [====>.........................] - ETA: 15s - loss: 1.9572 - angle_out_loss: 2.1741 - throttle_out_loss: 0.5138\u001b[0m\n",
      "\u001b[31m 3/11 [=======>......................] - ETA: 13s - loss: 1.9642 - angle_out_loss: 2.1819 - throttle_out_loss: 0.4774\u001b[0m\n",
      "\u001b[31m 4/11 [=========>....................] - ETA: 11s - loss: 1.9531 - angle_out_loss: 2.1696 - throttle_out_loss: 0.4712\u001b[0m\n",
      "\u001b[31m 5/11 [============>.................] - ETA: 10s - loss: 1.9601 - angle_out_loss: 2.1774 - throttle_out_loss: 0.4594\u001b[0m\n",
      "\u001b[31m 6/11 [===============>..............] - ETA: 8s - loss: 1.9561 - angle_out_loss: 2.1729 - throttle_out_loss: 0.4579 \u001b[0m\n",
      "\u001b[31m 7/11 [==================>...........] - ETA: 6s - loss: 1.9381 - angle_out_loss: 2.1529 - throttle_out_loss: 0.4546\u001b[0m\n",
      "\u001b[31m 8/11 [====================>.........] - ETA: 5s - loss: 1.9328 - angle_out_loss: 2.1471 - throttle_out_loss: 0.4554\u001b[0m\n",
      "\u001b[31m 9/11 [=======================>......] - ETA: 3s - loss: 1.9346 - angle_out_loss: 2.1490 - throttle_out_loss: 0.4563\u001b[0m\n",
      "\u001b[31m10/11 [==========================>...] - ETA: 1s - loss: 1.9454 - angle_out_loss: 2.1610 - throttle_out_loss: 0.4601Epoch 00005: val_loss improved from 1.88753 to 1.84564, saving model to /opt/ml/model/car-model.pkl\n",
      "\u001b[0m\n",
      "\u001b[31m11/11 [==============================] - 21s 2s/step - loss: 1.9505 - angle_out_loss: 2.1668 - throttle_out_loss: 0.4617 - val_loss: 1.8456 - val_angle_out_loss: 2.0502 - val_throttle_out_loss: 0.4860\u001b[0m\n",
      "\u001b[31mEpoch 6/20\u001b[0m\n",
      "\u001b[31m 1/11 [=>............................] - ETA: 16s - loss: 1.8115 - angle_out_loss: 2.0121 - throttle_out_loss: 0.6158\u001b[0m\n",
      "\u001b[31m 2/11 [====>.........................] - ETA: 15s - loss: 1.8622 - angle_out_loss: 2.0685 - throttle_out_loss: 0.5900\u001b[0m\n",
      "\u001b[31m 3/11 [=======>......................] - ETA: 13s - loss: 1.8462 - angle_out_loss: 2.0507 - throttle_out_loss: 0.5699\u001b[0m\n",
      "\u001b[31m 4/11 [=========>....................] - ETA: 11s - loss: 1.8590 - angle_out_loss: 2.0649 - throttle_out_loss: 0.5880\u001b[0m\n",
      "\u001b[31m 5/11 [============>.................] - ETA: 10s - loss: 1.8378 - angle_out_loss: 2.0413 - throttle_out_loss: 0.6343\u001b[0m\n",
      "\u001b[31m 6/11 [===============>..............] - ETA: 8s - loss: 1.8380 - angle_out_loss: 2.0415 - throttle_out_loss: 0.6449 \u001b[0m\n",
      "\u001b[31m 7/11 [==================>...........] - ETA: 6s - loss: 1.8252 - angle_out_loss: 2.0273 - throttle_out_loss: 0.6395\u001b[0m\n",
      "\u001b[31m 8/11 [====================>.........] - ETA: 5s - loss: 1.8319 - angle_out_loss: 2.0348 - throttle_out_loss: 0.6370\u001b[0m\n",
      "\u001b[31m 9/11 [=======================>......] - ETA: 3s - loss: 1.8289 - angle_out_loss: 2.0314 - throttle_out_loss: 0.6354\u001b[0m\n",
      "\u001b[31m10/11 [==========================>...] - ETA: 1s - loss: 1.8109 - angle_out_loss: 2.0114 - throttle_out_loss: 0.6364Epoch 00006: val_loss improved from 1.84564 to 1.65767, saving model to /opt/ml/model/car-model.pkl\n",
      "\u001b[0m\n",
      "\u001b[31m11/11 [==============================] - 21s 2s/step - loss: 1.8085 - angle_out_loss: 2.0087 - throttle_out_loss: 0.6306 - val_loss: 1.6577 - val_angle_out_loss: 1.8412 - val_throttle_out_loss: 0.6257\u001b[0m\n",
      "\u001b[31mEpoch 7/20\u001b[0m\n",
      "\u001b[31m 1/11 [=>............................] - ETA: 17s - loss: 1.8135 - angle_out_loss: 2.0143 - throttle_out_loss: 0.6895\u001b[0m\n",
      "\u001b[31m 2/11 [====>.........................] - ETA: 15s - loss: 1.7554 - angle_out_loss: 1.9496 - throttle_out_loss: 0.7459\u001b[0m\n",
      "\u001b[31m 3/11 [=======>......................] - ETA: 13s - loss: 1.7537 - angle_out_loss: 1.9477 - throttle_out_loss: 0.7381\u001b[0m\n",
      "\u001b[31m 4/11 [=========>....................] - ETA: 11s - loss: 1.7565 - angle_out_loss: 1.9509 - throttle_out_loss: 0.7219\u001b[0m\n",
      "\u001b[31m 5/11 [============>.................] - ETA: 10s - loss: 1.7516 - angle_out_loss: 1.9454 - throttle_out_loss: 0.7227\u001b[0m\n",
      "\u001b[31m 6/11 [===============>..............] - ETA: 8s - loss: 1.7177 - angle_out_loss: 1.9078 - throttle_out_loss: 0.7090 \u001b[0m\n",
      "\u001b[31m 7/11 [==================>...........] - ETA: 6s - loss: 1.6885 - angle_out_loss: 1.8753 - throttle_out_loss: 0.7021\u001b[0m\n",
      "\u001b[31m 8/11 [====================>.........] - ETA: 5s - loss: 1.6940 - angle_out_loss: 1.8815 - throttle_out_loss: 0.7046\u001b[0m\n",
      "\u001b[31m 9/11 [=======================>......] - ETA: 3s - loss: 1.6953 - angle_out_loss: 1.8829 - throttle_out_loss: 0.6985\u001b[0m\n",
      "\u001b[31m10/11 [==========================>...] - ETA: 1s - loss: 1.6927 - angle_out_loss: 1.8800 - throttle_out_loss: 0.6956Epoch 00007: val_loss improved from 1.65767 to 1.59913, saving model to /opt/ml/model/car-model.pkl\n",
      "\u001b[0m\n",
      "\u001b[31m11/11 [==============================] - 21s 2s/step - loss: 1.6833 - angle_out_loss: 1.8696 - throttle_out_loss: 0.6838 - val_loss: 1.5991 - val_angle_out_loss: 1.7763 - val_throttle_out_loss: 0.4873\u001b[0m\n",
      "\u001b[31mEpoch 8/20\u001b[0m\n",
      "\u001b[31m 1/11 [=>............................] - ETA: 16s - loss: 1.6120 - angle_out_loss: 1.7904 - throttle_out_loss: 0.6561\u001b[0m\n",
      "\u001b[31m 2/11 [====>.........................] - ETA: 15s - loss: 1.6882 - angle_out_loss: 1.8751 - throttle_out_loss: 0.6149\u001b[0m\n",
      "\u001b[31m 3/11 [=======>......................] - ETA: 13s - loss: 1.6980 - angle_out_loss: 1.8859 - throttle_out_loss: 0.6892\u001b[0m\n",
      "\u001b[31m 4/11 [=========>....................] - ETA: 11s - loss: 1.6583 - angle_out_loss: 1.8418 - throttle_out_loss: 0.6924\u001b[0m\n",
      "\u001b[31m 5/11 [============>.................] - ETA: 10s - loss: 1.6283 - angle_out_loss: 1.8084 - throttle_out_loss: 0.6816\u001b[0m\n",
      "\u001b[31m 6/11 [===============>..............] - ETA: 8s - loss: 1.6159 - angle_out_loss: 1.7947 - throttle_out_loss: 0.6759 \u001b[0m\n",
      "\u001b[31m 7/11 [==================>...........] - ETA: 6s - loss: 1.6021 - angle_out_loss: 1.7794 - throttle_out_loss: 0.6758\u001b[0m\n",
      "\u001b[31m 8/11 [====================>.........] - ETA: 5s - loss: 1.6059 - angle_out_loss: 1.7836 - throttle_out_loss: 0.6693\u001b[0m\n",
      "\u001b[31m 9/11 [=======================>......] - ETA: 3s - loss: 1.6003 - angle_out_loss: 1.7773 - throttle_out_loss: 0.6792\u001b[0m\n",
      "\u001b[31m10/11 [==========================>...] - ETA: 1s - loss: 1.6137 - angle_out_loss: 1.7923 - throttle_out_loss: 0.6788Epoch 00008: val_loss did not improve\n",
      "\u001b[0m\n",
      "\u001b[31m11/11 [==============================] - 21s 2s/step - loss: 1.6103 - angle_out_loss: 1.7885 - throttle_out_loss: 0.6809 - val_loss: 1.6670 - val_angle_out_loss: 1.8515 - val_throttle_out_loss: 0.6490\u001b[0m\n",
      "\u001b[31mEpoch 9/20\u001b[0m\n",
      "\u001b[31m 1/11 [=>............................] - ETA: 16s - loss: 1.5101 - angle_out_loss: 1.6771 - throttle_out_loss: 0.7739\u001b[0m\n",
      "\u001b[31m 2/11 [====>.........................] - ETA: 14s - loss: 1.4349 - angle_out_loss: 1.5935 - throttle_out_loss: 0.7760\u001b[0m\n",
      "\u001b[31m 3/11 [=======>......................] - ETA: 13s - loss: 1.4343 - angle_out_loss: 1.5927 - throttle_out_loss: 0.8260\u001b[0m\n",
      "\u001b[31m 4/11 [=========>....................] - ETA: 11s - loss: 1.5087 - angle_out_loss: 1.6754 - throttle_out_loss: 0.8050\u001b[0m\n",
      "\u001b[31m 5/11 [============>.................] - ETA: 10s - loss: 1.4837 - angle_out_loss: 1.6477 - throttle_out_loss: 0.7952\u001b[0m\n",
      "\u001b[31m 6/11 [===============>..............] - ETA: 8s - loss: 1.4600 - angle_out_loss: 1.6214 - throttle_out_loss: 0.7742 \u001b[0m\n",
      "\u001b[31m 7/11 [==================>...........] - ETA: 6s - loss: 1.4482 - angle_out_loss: 1.6083 - throttle_out_loss: 0.7578\u001b[0m\n",
      "\u001b[31m 8/11 [====================>.........] - ETA: 5s - loss: 1.4482 - angle_out_loss: 1.6083 - throttle_out_loss: 0.7503\u001b[0m\n",
      "\u001b[31m 9/11 [=======================>......] - ETA: 3s - loss: 1.4352 - angle_out_loss: 1.5939 - throttle_out_loss: 0.7488\u001b[0m\n",
      "\u001b[31m10/11 [==========================>...] - ETA: 1s - loss: 1.4331 - angle_out_loss: 1.5914 - throttle_out_loss: 0.7541Epoch 00009: val_loss improved from 1.59913 to 1.41099, saving model to /opt/ml/model/car-model.pkl\n",
      "\u001b[0m\n",
      "\u001b[31m11/11 [==============================] - 21s 2s/step - loss: 1.4203 - angle_out_loss: 1.5773 - throttle_out_loss: 0.7574 - val_loss: 1.4110 - val_angle_out_loss: 1.5669 - val_throttle_out_loss: 0.7478\u001b[0m\n",
      "\u001b[31mEpoch 10/20\u001b[0m\n",
      "\u001b[31m 1/11 [=>............................] - ETA: 16s - loss: 1.2625 - angle_out_loss: 1.4020 - throttle_out_loss: 0.7263\u001b[0m\n",
      "\u001b[31m 2/11 [====>.........................] - ETA: 15s - loss: 1.2644 - angle_out_loss: 1.4041 - throttle_out_loss: 0.7922\u001b[0m\n",
      "\u001b[31m 3/11 [=======>......................] - ETA: 13s - loss: 1.3074 - angle_out_loss: 1.4518 - throttle_out_loss: 0.7935\u001b[0m\n",
      "\u001b[31m 4/11 [=========>....................] - ETA: 11s - loss: 1.3361 - angle_out_loss: 1.4836 - throttle_out_loss: 0.8224\u001b[0m\n"
     ]
    },
    {
     "name": "stdout",
     "output_type": "stream",
     "text": [
      "\u001b[31m 5/11 [============>.................] - ETA: 10s - loss: 1.3123 - angle_out_loss: 1.4572 - throttle_out_loss: 0.7993\u001b[0m\n",
      "\u001b[31m 6/11 [===============>..............] - ETA: 8s - loss: 1.3447 - angle_out_loss: 1.4932 - throttle_out_loss: 0.7936 \u001b[0m\n",
      "\u001b[31m 7/11 [==================>...........] - ETA: 6s - loss: 1.3452 - angle_out_loss: 1.4939 - throttle_out_loss: 0.7730\u001b[0m\n",
      "\u001b[31m 8/11 [====================>.........] - ETA: 5s - loss: 1.3346 - angle_out_loss: 1.4821 - throttle_out_loss: 0.7690\u001b[0m\n",
      "\u001b[31m 9/11 [=======================>......] - ETA: 3s - loss: 1.3087 - angle_out_loss: 1.4532 - throttle_out_loss: 0.7620\u001b[0m\n",
      "\u001b[31m10/11 [==========================>...] - ETA: 1s - loss: 1.2908 - angle_out_loss: 1.4334 - throttle_out_loss: 0.7678Epoch 00010: val_loss improved from 1.41099 to 1.35066, saving model to /opt/ml/model/car-model.pkl\u001b[0m\n",
      "\u001b[31m11/11 [==============================] - 21s 2s/step - loss: 1.2917 - angle_out_loss: 1.4344 - throttle_out_loss: 0.7697 - val_loss: 1.3507 - val_angle_out_loss: 1.5000 - val_throttle_out_loss: 0.6905\u001b[0m\n",
      "\u001b[31mEpoch 11/20\u001b[0m\n",
      "\u001b[31m 1/11 [=>............................] - ETA: 17s - loss: 1.1877 - angle_out_loss: 1.3187 - throttle_out_loss: 0.8560\u001b[0m\n",
      "\u001b[31m 2/11 [====>.........................] - ETA: 15s - loss: 1.1555 - angle_out_loss: 1.2830 - throttle_out_loss: 0.8286\u001b[0m\n",
      "\u001b[31m 3/11 [=======>......................] - ETA: 13s - loss: 1.1622 - angle_out_loss: 1.2905 - throttle_out_loss: 0.8135\u001b[0m\n",
      "\u001b[31m 4/11 [=========>....................] - ETA: 11s - loss: 1.1671 - angle_out_loss: 1.2958 - throttle_out_loss: 0.8457\u001b[0m\n",
      "\u001b[31m 5/11 [============>.................] - ETA: 10s - loss: 1.1529 - angle_out_loss: 1.2800 - throttle_out_loss: 0.8509\u001b[0m\n",
      "\u001b[31m 6/11 [===============>..............] - ETA: 8s - loss: 1.1591 - angle_out_loss: 1.2870 - throttle_out_loss: 0.8334 \u001b[0m\n",
      "\u001b[31m 7/11 [==================>...........] - ETA: 6s - loss: 1.1801 - angle_out_loss: 1.3103 - throttle_out_loss: 0.8251\u001b[0m\n",
      "\u001b[31m 8/11 [====================>.........] - ETA: 5s - loss: 1.1688 - angle_out_loss: 1.2977 - throttle_out_loss: 0.8122\u001b[0m\n",
      "\u001b[31m 9/11 [=======================>......] - ETA: 3s - loss: 1.1652 - angle_out_loss: 1.2937 - throttle_out_loss: 0.8030\u001b[0m\n",
      "\u001b[31m10/11 [==========================>...] - ETA: 1s - loss: 1.1477 - angle_out_loss: 1.2744 - throttle_out_loss: 0.7938Epoch 00011: val_loss improved from 1.35066 to 1.27068, saving model to /opt/ml/model/car-model.pkl\n",
      "\u001b[0m\n",
      "\u001b[31m11/11 [==============================] - 21s 2s/step - loss: 1.1388 - angle_out_loss: 1.2644 - throttle_out_loss: 0.7876 - val_loss: 1.2707 - val_angle_out_loss: 1.4111 - val_throttle_out_loss: 0.6906\u001b[0m\n",
      "\u001b[31mEpoch 12/20\u001b[0m\n",
      "\u001b[31m 1/11 [=>............................] - ETA: 16s - loss: 1.2419 - angle_out_loss: 1.3790 - throttle_out_loss: 0.7902\u001b[0m\n",
      "\u001b[31m 2/11 [====>.........................] - ETA: 15s - loss: 1.1300 - angle_out_loss: 1.2548 - throttle_out_loss: 0.7334\u001b[0m\n",
      "\u001b[31m 3/11 [=======>......................] - ETA: 13s - loss: 1.1487 - angle_out_loss: 1.2756 - throttle_out_loss: 0.7150\u001b[0m\n",
      "\u001b[31m 4/11 [=========>....................] - ETA: 11s - loss: 1.1104 - angle_out_loss: 1.2330 - throttle_out_loss: 0.7153\u001b[0m\n",
      "\u001b[31m 5/11 [============>.................] - ETA: 10s - loss: 1.1009 - angle_out_loss: 1.2224 - throttle_out_loss: 0.7351\u001b[0m\n",
      "\u001b[31m 6/11 [===============>..............] - ETA: 8s - loss: 1.0786 - angle_out_loss: 1.1976 - throttle_out_loss: 0.7366 \u001b[0m\n",
      "\u001b[31m 7/11 [==================>...........] - ETA: 6s - loss: 1.0757 - angle_out_loss: 1.1944 - throttle_out_loss: 0.7463\u001b[0m\n",
      "\u001b[31m 8/11 [====================>.........] - ETA: 5s - loss: 1.0778 - angle_out_loss: 1.1968 - throttle_out_loss: 0.7509\u001b[0m\n",
      "\u001b[31m 9/11 [=======================>......] - ETA: 3s - loss: 1.0635 - angle_out_loss: 1.1808 - throttle_out_loss: 0.7505\u001b[0m\n",
      "\u001b[31m10/11 [==========================>...] - ETA: 1s - loss: 1.0520 - angle_out_loss: 1.1680 - throttle_out_loss: 0.7543Epoch 00012: val_loss improved from 1.27068 to 1.16488, saving model to /opt/ml/model/car-model.pkl\n",
      "\u001b[0m\n",
      "\u001b[31m11/11 [==============================] - 21s 2s/step - loss: 1.0508 - angle_out_loss: 1.1668 - throttle_out_loss: 0.7617 - val_loss: 1.1649 - val_angle_out_loss: 1.2935 - val_throttle_out_loss: 0.7414\u001b[0m\n",
      "\u001b[31mEpoch 13/20\u001b[0m\n",
      "\u001b[31m 1/11 [=>............................] - ETA: 17s - loss: 1.0179 - angle_out_loss: 1.1302 - throttle_out_loss: 0.7323\u001b[0m\n",
      "\u001b[31m 2/11 [====>.........................] - ETA: 15s - loss: 1.0133 - angle_out_loss: 1.1250 - throttle_out_loss: 0.7580\u001b[0m\n",
      "\u001b[31m 3/11 [=======>......................] - ETA: 13s - loss: 0.9783 - angle_out_loss: 1.0861 - throttle_out_loss: 0.7718\u001b[0m\n",
      "\u001b[31m 4/11 [=========>....................] - ETA: 11s - loss: 0.9403 - angle_out_loss: 1.0440 - throttle_out_loss: 0.7678\u001b[0m\n",
      "\u001b[31m 5/11 [============>.................] - ETA: 10s - loss: 0.9238 - angle_out_loss: 1.0255 - throttle_out_loss: 0.7762\u001b[0m\n",
      "\u001b[31m 6/11 [===============>..............] - ETA: 8s - loss: 0.9333 - angle_out_loss: 1.0362 - throttle_out_loss: 0.7783 \u001b[0m\n",
      "\u001b[31m 7/11 [==================>...........] - ETA: 6s - loss: 0.9194 - angle_out_loss: 1.0207 - throttle_out_loss: 0.7754\u001b[0m\n",
      "\u001b[31m 8/11 [====================>.........] - ETA: 5s - loss: 0.9428 - angle_out_loss: 1.0467 - throttle_out_loss: 0.7654\u001b[0m\n",
      "\u001b[31m 9/11 [=======================>......] - ETA: 3s - loss: 0.9461 - angle_out_loss: 1.0504 - throttle_out_loss: 0.7594\u001b[0m\n",
      "\u001b[31m10/11 [==========================>...] - ETA: 1s - loss: 0.9378 - angle_out_loss: 1.0411 - throttle_out_loss: 0.7623Epoch 00013: val_loss improved from 1.16488 to 1.16411, saving model to /opt/ml/model/car-model.pkl\n",
      "\u001b[0m\n",
      "\u001b[31m11/11 [==============================] - 22s 2s/step - loss: 0.9425 - angle_out_loss: 1.0463 - throttle_out_loss: 0.7639 - val_loss: 1.1641 - val_angle_out_loss: 1.2926 - val_throttle_out_loss: 0.8031\u001b[0m\n",
      "\u001b[31mEpoch 14/20\u001b[0m\n",
      "\u001b[31m 1/11 [=>............................] - ETA: 18s - loss: 1.0036 - angle_out_loss: 1.1142 - throttle_out_loss: 0.8089\u001b[0m\n",
      "\u001b[31m 2/11 [====>.........................] - ETA: 16s - loss: 0.9456 - angle_out_loss: 1.0498 - throttle_out_loss: 0.7957\u001b[0m\n",
      "\u001b[31m 3/11 [=======>......................] - ETA: 14s - loss: 0.9218 - angle_out_loss: 1.0234 - throttle_out_loss: 0.7922\u001b[0m\n",
      "\u001b[31m 4/11 [=========>....................] - ETA: 12s - loss: 0.9107 - angle_out_loss: 1.0111 - throttle_out_loss: 0.7907\u001b[0m\n",
      "\u001b[31m 5/11 [============>.................] - ETA: 10s - loss: 0.9170 - angle_out_loss: 1.0180 - throttle_out_loss: 0.8066\u001b[0m\n",
      "\u001b[31m 6/11 [===============>..............] - ETA: 8s - loss: 0.8916 - angle_out_loss: 0.9898 - throttle_out_loss: 0.8017 \u001b[0m\n",
      "\u001b[31m 7/11 [==================>...........] - ETA: 6s - loss: 0.8603 - angle_out_loss: 0.9550 - throttle_out_loss: 0.7993\u001b[0m\n",
      "\u001b[31m 8/11 [====================>.........] - ETA: 5s - loss: 0.8637 - angle_out_loss: 0.9588 - throttle_out_loss: 0.7963\u001b[0m\n",
      "\u001b[31m 9/11 [=======================>......] - ETA: 3s - loss: 0.8641 - angle_out_loss: 0.9592 - throttle_out_loss: 0.7923\u001b[0m\n",
      "\u001b[31m10/11 [==========================>...] - ETA: 1s - loss: 0.8443 - angle_out_loss: 0.9372 - throttle_out_loss: 0.7940Epoch 00014: val_loss improved from 1.16411 to 1.09553, saving model to /opt/ml/model/car-model.pkl\n",
      "\u001b[0m\n",
      "\u001b[31m11/11 [==============================] - 22s 2s/step - loss: 0.8379 - angle_out_loss: 0.9301 - throttle_out_loss: 0.7925 - val_loss: 1.0955 - val_angle_out_loss: 1.2164 - val_throttle_out_loss: 0.7389\u001b[0m\n",
      "\u001b[31mEpoch 15/20\u001b[0m\n",
      "\u001b[31m 1/11 [=>............................] - ETA: 17s - loss: 0.9213 - angle_out_loss: 1.0228 - throttle_out_loss: 0.8539\u001b[0m\n",
      "\u001b[31m 2/11 [====>.........................] - ETA: 15s - loss: 0.7622 - angle_out_loss: 0.8459 - throttle_out_loss: 0.8636\u001b[0m\n",
      "\u001b[31m 3/11 [=======>......................] - ETA: 13s - loss: 0.7971 - angle_out_loss: 0.8848 - throttle_out_loss: 0.8550\u001b[0m\n",
      "\u001b[31m 4/11 [=========>....................] - ETA: 11s - loss: 0.7935 - angle_out_loss: 0.8808 - throttle_out_loss: 0.8464\u001b[0m\n",
      "\u001b[31m 5/11 [============>.................] - ETA: 10s - loss: 0.7628 - angle_out_loss: 0.8466 - throttle_out_loss: 0.8405\u001b[0m\n",
      "\u001b[31m 6/11 [===============>..............] - ETA: 8s - loss: 0.7729 - angle_out_loss: 0.8578 - throttle_out_loss: 0.8266 \u001b[0m\n",
      "\u001b[31m 7/11 [==================>...........] - ETA: 6s - loss: 0.7528 - angle_out_loss: 0.8355 - throttle_out_loss: 0.8306\u001b[0m\n"
     ]
    },
    {
     "name": "stdout",
     "output_type": "stream",
     "text": [
      "\u001b[31m 8/11 [====================>.........] - ETA: 5s - loss: 0.7552 - angle_out_loss: 0.8382 - throttle_out_loss: 0.8329\u001b[0m\n",
      "\u001b[31m 9/11 [=======================>......] - ETA: 3s - loss: 0.7715 - angle_out_loss: 0.8563 - throttle_out_loss: 0.8334\u001b[0m\n",
      "\u001b[31m10/11 [==========================>...] - ETA: 1s - loss: 0.7596 - angle_out_loss: 0.8430 - throttle_out_loss: 0.8256Epoch 00015: val_loss did not improve\n",
      "\u001b[0m\n",
      "\u001b[31m11/11 [==============================] - 21s 2s/step - loss: 0.7418 - angle_out_loss: 0.8233 - throttle_out_loss: 0.8262 - val_loss: 1.2054 - val_angle_out_loss: 1.3385 - val_throttle_out_loss: 0.7655\u001b[0m\n",
      "\u001b[31mEpoch 16/20\u001b[0m\n",
      "\u001b[31m 1/11 [=>............................] - ETA: 16s - loss: 0.6966 - angle_out_loss: 0.7732 - throttle_out_loss: 0.7569\u001b[0m\n",
      "\u001b[31m 2/11 [====>.........................] - ETA: 14s - loss: 0.6972 - angle_out_loss: 0.7738 - throttle_out_loss: 0.7783\u001b[0m\n",
      "\u001b[31m 3/11 [=======>......................] - ETA: 13s - loss: 0.7045 - angle_out_loss: 0.7819 - throttle_out_loss: 0.7700\u001b[0m\n",
      "\u001b[31m 4/11 [=========>....................] - ETA: 11s - loss: 0.6875 - angle_out_loss: 0.7630 - throttle_out_loss: 0.7891\u001b[0m\n",
      "\u001b[31m 5/11 [============>.................] - ETA: 10s - loss: 0.6745 - angle_out_loss: 0.7486 - throttle_out_loss: 0.7960\u001b[0m\n",
      "\u001b[31m 6/11 [===============>..............] - ETA: 8s - loss: 0.6823 - angle_out_loss: 0.7572 - throttle_out_loss: 0.7899 \u001b[0m\n",
      "\u001b[31m 7/11 [==================>...........] - ETA: 6s - loss: 0.6915 - angle_out_loss: 0.7675 - throttle_out_loss: 0.7857\u001b[0m\n",
      "\u001b[31m 8/11 [====================>.........] - ETA: 5s - loss: 0.6890 - angle_out_loss: 0.7647 - throttle_out_loss: 0.7853\u001b[0m\n",
      "\u001b[31m 9/11 [=======================>......] - ETA: 3s - loss: 0.6957 - angle_out_loss: 0.7722 - throttle_out_loss: 0.7882\u001b[0m\n",
      "\u001b[31m10/11 [==========================>...] - ETA: 1s - loss: 0.6894 - angle_out_loss: 0.7651 - throttle_out_loss: 0.7944Epoch 00016: val_loss did not improve\n",
      "\u001b[0m\n",
      "\u001b[31m11/11 [==============================] - 21s 2s/step - loss: 0.6875 - angle_out_loss: 0.7630 - throttle_out_loss: 0.7968 - val_loss: 1.1278 - val_angle_out_loss: 1.2523 - val_throttle_out_loss: 0.6915\u001b[0m\n",
      "\u001b[31mEpoch 17/20\u001b[0m\n",
      "\u001b[31m 1/11 [=>............................] - ETA: 17s - loss: 0.6145 - angle_out_loss: 0.6818 - throttle_out_loss: 0.8604\u001b[0m\n",
      "\u001b[31m 2/11 [====>.........................] - ETA: 15s - loss: 0.6782 - angle_out_loss: 0.7527 - throttle_out_loss: 0.8066\u001b[0m\n",
      "\u001b[31m 3/11 [=======>......................] - ETA: 13s - loss: 0.6414 - angle_out_loss: 0.7118 - throttle_out_loss: 0.8142\u001b[0m\n",
      "\u001b[31m 4/11 [=========>....................] - ETA: 11s - loss: 0.6767 - angle_out_loss: 0.7510 - throttle_out_loss: 0.8147\u001b[0m\n",
      "\u001b[31m 5/11 [============>.................] - ETA: 10s - loss: 0.6560 - angle_out_loss: 0.7279 - throttle_out_loss: 0.8123\u001b[0m\n",
      "\u001b[31m 6/11 [===============>..............] - ETA: 8s - loss: 0.6884 - angle_out_loss: 0.7640 - throttle_out_loss: 0.8051 \u001b[0m\n",
      "\u001b[31m 7/11 [==================>...........] - ETA: 6s - loss: 0.6620 - angle_out_loss: 0.7346 - throttle_out_loss: 0.8000\u001b[0m\n",
      "\u001b[31m 8/11 [====================>.........] - ETA: 5s - loss: 0.6606 - angle_out_loss: 0.7331 - throttle_out_loss: 0.7969\u001b[0m\n",
      "\u001b[31m 9/11 [=======================>......] - ETA: 3s - loss: 0.6620 - angle_out_loss: 0.7347 - throttle_out_loss: 0.7937\u001b[0m\n",
      "\u001b[31m10/11 [==========================>...] - ETA: 1s - loss: 0.6634 - angle_out_loss: 0.7363 - throttle_out_loss: 0.7839Epoch 00017: val_loss improved from 1.09553 to 1.07605, saving model to /opt/ml/model/car-model.pkl\n",
      "\u001b[0m\n",
      "\u001b[31m11/11 [==============================] - 21s 2s/step - loss: 0.6605 - angle_out_loss: 0.7330 - throttle_out_loss: 0.7805 - val_loss: 1.0760 - val_angle_out_loss: 1.1948 - val_throttle_out_loss: 0.7358\u001b[0m\n",
      "\u001b[31mEpoch 18/20\u001b[0m\n",
      "\u001b[31m 1/11 [=>............................] - ETA: 17s - loss: 0.6157 - angle_out_loss: 0.6833 - throttle_out_loss: 0.7571\u001b[0m\n",
      "\u001b[31m 2/11 [====>.........................] - ETA: 15s - loss: 0.5800 - angle_out_loss: 0.6436 - throttle_out_loss: 0.7602\u001b[0m\n",
      "\u001b[31m 3/11 [=======>......................] - ETA: 13s - loss: 0.5434 - angle_out_loss: 0.6029 - throttle_out_loss: 0.7913\u001b[0m\n",
      "\u001b[31m 4/11 [=========>....................] - ETA: 11s - loss: 0.5432 - angle_out_loss: 0.6027 - throttle_out_loss: 0.8009\u001b[0m\n",
      "\u001b[31m 5/11 [============>.................] - ETA: 10s - loss: 0.5529 - angle_out_loss: 0.6134 - throttle_out_loss: 0.7987\u001b[0m\n",
      "\u001b[31m 6/11 [===============>..............] - ETA: 8s - loss: 0.5381 - angle_out_loss: 0.5970 - throttle_out_loss: 0.7977 \u001b[0m\n",
      "\u001b[31m 7/11 [==================>...........] - ETA: 6s - loss: 0.5399 - angle_out_loss: 0.5990 - throttle_out_loss: 0.7920\u001b[0m\n",
      "\u001b[31m 8/11 [====================>.........] - ETA: 5s - loss: 0.5546 - angle_out_loss: 0.6153 - throttle_out_loss: 0.7972\u001b[0m\n",
      "\u001b[31m 9/11 [=======================>......] - ETA: 3s - loss: 0.5569 - angle_out_loss: 0.6178 - throttle_out_loss: 0.8047\u001b[0m\n",
      "\u001b[31m10/11 [==========================>...] - ETA: 1s - loss: 0.5727 - angle_out_loss: 0.6354 - throttle_out_loss: 0.8071Epoch 00018: val_loss improved from 1.07605 to 0.95117, saving model to /opt/ml/model/car-model.pkl\n",
      "\u001b[0m\n",
      "\u001b[31m11/11 [==============================] - 21s 2s/step - loss: 0.5765 - angle_out_loss: 0.6396 - throttle_out_loss: 0.8112 - val_loss: 0.9512 - val_angle_out_loss: 1.0561 - val_throttle_out_loss: 0.6951\u001b[0m\n",
      "\u001b[31mEpoch 19/20\u001b[0m\n",
      "\u001b[31m 1/11 [=>............................] - ETA: 16s - loss: 0.4042 - angle_out_loss: 0.4482 - throttle_out_loss: 0.8069\u001b[0m\n",
      "\u001b[31m 2/11 [====>.........................] - ETA: 15s - loss: 0.4340 - angle_out_loss: 0.4813 - throttle_out_loss: 0.8386\u001b[0m\n",
      "\u001b[31m 3/11 [=======>......................] - ETA: 13s - loss: 0.4895 - angle_out_loss: 0.5430 - throttle_out_loss: 0.8251\u001b[0m\n",
      "\u001b[31m 4/11 [=========>....................] - ETA: 11s - loss: 0.5311 - angle_out_loss: 0.5892 - throttle_out_loss: 0.8142\u001b[0m\n",
      "\u001b[31m 5/11 [============>.................] - ETA: 10s - loss: 0.5372 - angle_out_loss: 0.5960 - throttle_out_loss: 0.8049\u001b[0m\n",
      "\u001b[31m 6/11 [===============>..............] - ETA: 8s - loss: 0.5642 - angle_out_loss: 0.6260 - throttle_out_loss: 0.7940 \u001b[0m\n",
      "\u001b[31m 7/11 [==================>...........] - ETA: 6s - loss: 0.5600 - angle_out_loss: 0.6214 - throttle_out_loss: 0.7966\u001b[0m\n",
      "\u001b[31m 8/11 [====================>.........] - ETA: 5s - loss: 0.5532 - angle_out_loss: 0.6138 - throttle_out_loss: 0.7933\u001b[0m\n",
      "\u001b[31m 9/11 [=======================>......] - ETA: 3s - loss: 0.5457 - angle_out_loss: 0.6055 - throttle_out_loss: 0.7879\u001b[0m\n",
      "\u001b[31m10/11 [==========================>...] - ETA: 1s - loss: 0.5305 - angle_out_loss: 0.5886 - throttle_out_loss: 0.7913Epoch 00019: val_loss improved from 0.95117 to 0.94601, saving model to /opt/ml/model/car-model.pkl\n",
      "\u001b[0m\n",
      "\u001b[31m11/11 [==============================] - 21s 2s/step - loss: 0.5220 - angle_out_loss: 0.5792 - throttle_out_loss: 0.7913 - val_loss: 0.9460 - val_angle_out_loss: 1.0504 - val_throttle_out_loss: 0.6774\u001b[0m\n",
      "\u001b[31mEpoch 20/20\u001b[0m\n",
      "\u001b[31m 1/11 [=>............................] - ETA: 16s - loss: 0.5903 - angle_out_loss: 0.6550 - throttle_out_loss: 0.8136\u001b[0m\n",
      "\u001b[31m 2/11 [====>.........................] - ETA: 15s - loss: 0.5607 - angle_out_loss: 0.6221 - throttle_out_loss: 0.8249\u001b[0m\n",
      "\u001b[31m 3/11 [=======>......................] - ETA: 13s - loss: 0.4986 - angle_out_loss: 0.5531 - throttle_out_loss: 0.8122\u001b[0m\n",
      "\u001b[31m 4/11 [=========>....................] - ETA: 11s - loss: 0.5131 - angle_out_loss: 0.5692 - throttle_out_loss: 0.8121\u001b[0m\n"
     ]
    }
   ],
   "source": [
    "algo.fit(inputs)"
   ]
  },
  {
   "cell_type": "code",
   "execution_count": 21,
   "metadata": {},
   "outputs": [],
   "source": [
    "output_path=\"s3://{}/output\".format(sagemaker_session.default_bucket())"
   ]
  },
  {
   "cell_type": "code",
   "execution_count": 22,
   "metadata": {},
   "outputs": [
    {
     "name": "stdout",
     "output_type": "stream",
     "text": [
      "s3://sagemaker-us-east-1-271275436050/output\n"
     ]
    }
   ],
   "source": [
    "print(output_path)"
   ]
  },
  {
   "cell_type": "code",
   "execution_count": null,
   "metadata": {},
   "outputs": [],
   "source": []
  }
 ],
 "metadata": {
  "kernelspec": {
   "display_name": "Python 3",
   "language": "python",
   "name": "python3"
  },
  "language_info": {
   "codemirror_mode": {
    "name": "ipython",
    "version": 3
   },
   "file_extension": ".py",
   "mimetype": "text/x-python",
   "name": "python",
   "nbconvert_exporter": "python",
   "pygments_lexer": "ipython3",
   "version": "3.4.3"
  }
 },
 "nbformat": 4,
 "nbformat_minor": 2
}
